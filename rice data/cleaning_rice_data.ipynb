{
 "cells": [
  {
   "cell_type": "code",
   "execution_count": 1,
   "id": "c645649f-bdb8-455c-8eb6-ea32e99b6729",
   "metadata": {
    "tags": []
   },
   "outputs": [],
   "source": [
    "import pandas as pd\n",
    "import numpy as np\n",
    "import matplotlib.pyplot as plt\n",
    "import seaborn as sns\n",
    "import plotly.express as px\n",
    "import ydata_profiling\n",
    "\n",
    "import warnings\n",
    "warnings.filterwarnings(\"ignore\")"
   ]
  },
  {
   "cell_type": "code",
   "execution_count": 2,
   "id": "ba2b4ea6-1271-4645-991f-419de4881a62",
   "metadata": {
    "tags": []
   },
   "outputs": [],
   "source": [
    "df=pd.read_excel(\"train1.xlsx\")"
   ]
  },
  {
   "cell_type": "code",
   "execution_count": 8,
   "id": "508d7e83-9d5b-4152-828e-ff5599959172",
   "metadata": {},
   "outputs": [],
   "source": [
    "# run same process to clear test data\n",
    "# df=pd.read_excel(\"test1.xlsx\")"
   ]
  },
  {
   "cell_type": "code",
   "execution_count": 3,
   "id": "3f444282-3b3b-44bb-9f3f-d3353b95a1d3",
   "metadata": {
    "tags": []
   },
   "outputs": [
    {
     "data": {
      "text/html": [
       "<div>\n",
       "<style scoped>\n",
       "    .dataframe tbody tr th:only-of-type {\n",
       "        vertical-align: middle;\n",
       "    }\n",
       "\n",
       "    .dataframe tbody tr th {\n",
       "        vertical-align: top;\n",
       "    }\n",
       "\n",
       "    .dataframe thead th {\n",
       "        text-align: right;\n",
       "    }\n",
       "</style>\n",
       "<table border=\"1\" class=\"dataframe\">\n",
       "  <thead>\n",
       "    <tr style=\"text-align: right;\">\n",
       "      <th></th>\n",
       "      <th>Unnamed: 0</th>\n",
       "      <th>id</th>\n",
       "      <th>Area_Extent</th>\n",
       "      <th>Perimeter</th>\n",
       "      <th>Major_Minor_Axis_Length</th>\n",
       "      <th>Eccentricity</th>\n",
       "      <th>Convex_Area</th>\n",
       "      <th>outcome</th>\n",
       "    </tr>\n",
       "  </thead>\n",
       "  <tbody>\n",
       "    <tr>\n",
       "      <th>0</th>\n",
       "      <td>1</td>\n",
       "      <td>0</td>\n",
       "      <td>10729:0.794211268424988</td>\n",
       "      <td>4.146990e+14</td>\n",
       "      <td>171.729873657227_81.4269790649414</td>\n",
       "      <td>0.880440</td>\n",
       "      <td>10987</td>\n",
       "      <td>1</td>\n",
       "    </tr>\n",
       "    <tr>\n",
       "      <th>1</th>\n",
       "      <td>2</td>\n",
       "      <td>1</td>\n",
       "      <td>11732_0.637470126152039</td>\n",
       "      <td>4.411230e+14</td>\n",
       "      <td>176.483489990234;86.1924667358398</td>\n",
       "      <td>0.872626</td>\n",
       "      <td>12076</td>\n",
       "      <td>1</td>\n",
       "    </tr>\n",
       "    <tr>\n",
       "      <th>2</th>\n",
       "      <td>3</td>\n",
       "      <td>2</td>\n",
       "      <td>nine thousand, two hundred and twenty-one_0.76...</td>\n",
       "      <td>3.870940e+14</td>\n",
       "      <td>159.224502563477_74.9033279418945</td>\n",
       "      <td>0.882439</td>\n",
       "      <td>9418</td>\n",
       "      <td>1</td>\n",
       "    </tr>\n",
       "    <tr>\n",
       "      <th>3</th>\n",
       "      <td>4</td>\n",
       "      <td>3</td>\n",
       "      <td>eleven thousand, seven hundred and eighty-seve...</td>\n",
       "      <td>4.345140e+14</td>\n",
       "      <td>181.290466308594_83.3493347167969</td>\n",
       "      <td>0.888045</td>\n",
       "      <td>11965</td>\n",
       "      <td>1</td>\n",
       "    </tr>\n",
       "    <tr>\n",
       "      <th>4</th>\n",
       "      <td>5</td>\n",
       "      <td>4</td>\n",
       "      <td>12574_0.654725313186646</td>\n",
       "      <td>4.446310e+14</td>\n",
       "      <td>174.560256958008,93.2424011230469</td>\n",
       "      <td>0.845386</td>\n",
       "      <td>12964</td>\n",
       "      <td>1</td>\n",
       "    </tr>\n",
       "  </tbody>\n",
       "</table>\n",
       "</div>"
      ],
      "text/plain": [
       "   Unnamed: 0  id                                        Area_Extent  \\\n",
       "0           1   0                            10729:0.794211268424988   \n",
       "1           2   1                            11732_0.637470126152039   \n",
       "2           3   2  nine thousand, two hundred and twenty-one_0.76...   \n",
       "3           4   3  eleven thousand, seven hundred and eighty-seve...   \n",
       "4           5   4                            12574_0.654725313186646   \n",
       "\n",
       "      Perimeter            Major_Minor_Axis_Length  Eccentricity  Convex_Area  \\\n",
       "0  4.146990e+14  171.729873657227_81.4269790649414      0.880440        10987   \n",
       "1  4.411230e+14  176.483489990234;86.1924667358398      0.872626        12076   \n",
       "2  3.870940e+14  159.224502563477_74.9033279418945      0.882439         9418   \n",
       "3  4.345140e+14  181.290466308594_83.3493347167969      0.888045        11965   \n",
       "4  4.446310e+14  174.560256958008,93.2424011230469      0.845386        12964   \n",
       "\n",
       "   outcome  \n",
       "0        1  \n",
       "1        1  \n",
       "2        1  \n",
       "3        1  \n",
       "4        1  "
      ]
     },
     "execution_count": 3,
     "metadata": {},
     "output_type": "execute_result"
    }
   ],
   "source": [
    "df.head()"
   ]
  },
  {
   "cell_type": "markdown",
   "id": "731429a0-11de-4ad3-9d38-b03492870af4",
   "metadata": {},
   "source": [
    "### Features:\n",
    "* id: Unique ID of the rice sample\n",
    "* Area Extent: Number of pixels within the boundaries of the rice grain and the ratio of the region formed by the rice grain to the bounding box pixels. separated by a delimiter\n",
    "* Perimeter: Circumference around the boundaries of the rice grain\n",
    "* Major Minor Axis Length: The main and small axis lengths, separated by a delimiter\n",
    "* Eccentricity: Eccentricity of the rice grain\n",
    "* Convex Area: Pixel count of the smallest convex Shell of the region formed by the rice grain\n",
    "* outcome: The type of rice (1: Osmancik - 0: Cammeo)"
   ]
  },
  {
   "cell_type": "code",
   "execution_count": 10,
   "id": "84e6c59f-cfb1-4e26-997b-16fd7cccf5b2",
   "metadata": {
    "tags": []
   },
   "outputs": [
    {
     "data": {
      "text/plain": [
       "(3000, 8)"
      ]
     },
     "execution_count": 10,
     "metadata": {},
     "output_type": "execute_result"
    }
   ],
   "source": [
    "df.shape"
   ]
  },
  {
   "cell_type": "code",
   "execution_count": 11,
   "id": "272c39a0-3617-4125-b7ea-2dd241809f1e",
   "metadata": {
    "tags": []
   },
   "outputs": [
    {
     "data": {
      "text/plain": [
       "Unnamed: 0                 0\n",
       "id                         0\n",
       "Area_Extent                0\n",
       "Perimeter                  0\n",
       "Major_Minor_Axis_Length    0\n",
       "Eccentricity               0\n",
       "Convex_Area                0\n",
       "outcome                    0\n",
       "dtype: int64"
      ]
     },
     "execution_count": 11,
     "metadata": {},
     "output_type": "execute_result"
    }
   ],
   "source": [
    "df.isna().sum()"
   ]
  },
  {
   "cell_type": "code",
   "execution_count": 12,
   "id": "143aaa8f-31ae-4711-9bc2-b053f4c95300",
   "metadata": {
    "tags": []
   },
   "outputs": [
    {
     "name": "stdout",
     "output_type": "stream",
     "text": [
      "<class 'pandas.core.frame.DataFrame'>\n",
      "RangeIndex: 3000 entries, 0 to 2999\n",
      "Data columns (total 8 columns):\n",
      " #   Column                   Non-Null Count  Dtype  \n",
      "---  ------                   --------------  -----  \n",
      " 0   Unnamed: 0               3000 non-null   int64  \n",
      " 1   id                       3000 non-null   int64  \n",
      " 2   Area_Extent              3000 non-null   object \n",
      " 3   Perimeter                3000 non-null   float64\n",
      " 4   Major_Minor_Axis_Length  3000 non-null   object \n",
      " 5   Eccentricity             3000 non-null   float64\n",
      " 6   Convex_Area              3000 non-null   int64  \n",
      " 7   outcome                  3000 non-null   int64  \n",
      "dtypes: float64(2), int64(4), object(2)\n",
      "memory usage: 187.6+ KB\n"
     ]
    }
   ],
   "source": [
    "df.info()"
   ]
  },
  {
   "cell_type": "markdown",
   "id": "609d038c-1ce8-44fb-b37a-2c3710930d88",
   "metadata": {
    "tags": []
   },
   "source": [
    "# Cleaning the data"
   ]
  },
  {
   "cell_type": "code",
   "execution_count": 13,
   "id": "e1695f33-53c2-4c70-a67f-940260eb12fa",
   "metadata": {
    "tags": []
   },
   "outputs": [],
   "source": [
    "df[\"Major_Axis_Length\"]=df[\"Major_Minor_Axis_Length\"].apply(lambda x: x.split(\",\")[0])\n",
    "df[\"Major_Axis_Length\"]=df[\"Major_Axis_Length\"].apply(lambda x: x.split(\";\")[0])\n",
    "df[\"Major_Axis_Length\"]=df[\"Major_Axis_Length\"].apply(lambda x: x.split(\"_\")[0])"
   ]
  },
  {
   "cell_type": "code",
   "execution_count": 14,
   "id": "f9bdee8b-db2a-44ac-ae0e-94ef7a7de362",
   "metadata": {
    "tags": []
   },
   "outputs": [],
   "source": [
    "df[\"Minor_Axis_Length\"]=df[\"Major_Minor_Axis_Length\"].apply(lambda x: x.split(\"_\")[~0])\n",
    "df[\"Minor_Axis_Length\"]=df[\"Minor_Axis_Length\"].apply(lambda x: x.split(\";\")[~0])\n",
    "df[\"Minor_Axis_Length\"]=df[\"Minor_Axis_Length\"].apply(lambda x: x.split(\",\")[~0])"
   ]
  },
  {
   "cell_type": "code",
   "execution_count": 15,
   "id": "f4955b29-8b4f-4217-a71b-ad249d5a3c8f",
   "metadata": {
    "tags": []
   },
   "outputs": [],
   "source": [
    "df.drop(\"Major_Minor_Axis_Length\",1, inplace=True)"
   ]
  },
  {
   "cell_type": "code",
   "execution_count": 16,
   "id": "1d3bbc87-ca2a-4ee1-920d-4c403964e7f9",
   "metadata": {
    "tags": []
   },
   "outputs": [
    {
     "data": {
      "text/html": [
       "<div>\n",
       "<style scoped>\n",
       "    .dataframe tbody tr th:only-of-type {\n",
       "        vertical-align: middle;\n",
       "    }\n",
       "\n",
       "    .dataframe tbody tr th {\n",
       "        vertical-align: top;\n",
       "    }\n",
       "\n",
       "    .dataframe thead th {\n",
       "        text-align: right;\n",
       "    }\n",
       "</style>\n",
       "<table border=\"1\" class=\"dataframe\">\n",
       "  <thead>\n",
       "    <tr style=\"text-align: right;\">\n",
       "      <th></th>\n",
       "      <th>Unnamed: 0</th>\n",
       "      <th>id</th>\n",
       "      <th>Area_Extent</th>\n",
       "      <th>Perimeter</th>\n",
       "      <th>Eccentricity</th>\n",
       "      <th>Convex_Area</th>\n",
       "      <th>outcome</th>\n",
       "      <th>Major_Axis_Length</th>\n",
       "      <th>Minor_Axis_Length</th>\n",
       "    </tr>\n",
       "  </thead>\n",
       "  <tbody>\n",
       "    <tr>\n",
       "      <th>0</th>\n",
       "      <td>1</td>\n",
       "      <td>0</td>\n",
       "      <td>10729:0.794211268424988</td>\n",
       "      <td>4.146990e+14</td>\n",
       "      <td>0.880440</td>\n",
       "      <td>10987</td>\n",
       "      <td>1</td>\n",
       "      <td>171.729873657227</td>\n",
       "      <td>81.4269790649414</td>\n",
       "    </tr>\n",
       "    <tr>\n",
       "      <th>1</th>\n",
       "      <td>2</td>\n",
       "      <td>1</td>\n",
       "      <td>11732_0.637470126152039</td>\n",
       "      <td>4.411230e+14</td>\n",
       "      <td>0.872626</td>\n",
       "      <td>12076</td>\n",
       "      <td>1</td>\n",
       "      <td>176.483489990234</td>\n",
       "      <td>86.1924667358398</td>\n",
       "    </tr>\n",
       "    <tr>\n",
       "      <th>2</th>\n",
       "      <td>3</td>\n",
       "      <td>2</td>\n",
       "      <td>nine thousand, two hundred and twenty-one_0.76...</td>\n",
       "      <td>3.870940e+14</td>\n",
       "      <td>0.882439</td>\n",
       "      <td>9418</td>\n",
       "      <td>1</td>\n",
       "      <td>159.224502563477</td>\n",
       "      <td>74.9033279418945</td>\n",
       "    </tr>\n",
       "    <tr>\n",
       "      <th>3</th>\n",
       "      <td>4</td>\n",
       "      <td>3</td>\n",
       "      <td>eleven thousand, seven hundred and eighty-seve...</td>\n",
       "      <td>4.345140e+14</td>\n",
       "      <td>0.888045</td>\n",
       "      <td>11965</td>\n",
       "      <td>1</td>\n",
       "      <td>181.290466308594</td>\n",
       "      <td>83.3493347167969</td>\n",
       "    </tr>\n",
       "    <tr>\n",
       "      <th>4</th>\n",
       "      <td>5</td>\n",
       "      <td>4</td>\n",
       "      <td>12574_0.654725313186646</td>\n",
       "      <td>4.446310e+14</td>\n",
       "      <td>0.845386</td>\n",
       "      <td>12964</td>\n",
       "      <td>1</td>\n",
       "      <td>174.560256958008</td>\n",
       "      <td>93.2424011230469</td>\n",
       "    </tr>\n",
       "  </tbody>\n",
       "</table>\n",
       "</div>"
      ],
      "text/plain": [
       "   Unnamed: 0  id                                        Area_Extent  \\\n",
       "0           1   0                            10729:0.794211268424988   \n",
       "1           2   1                            11732_0.637470126152039   \n",
       "2           3   2  nine thousand, two hundred and twenty-one_0.76...   \n",
       "3           4   3  eleven thousand, seven hundred and eighty-seve...   \n",
       "4           5   4                            12574_0.654725313186646   \n",
       "\n",
       "      Perimeter  Eccentricity  Convex_Area  outcome Major_Axis_Length  \\\n",
       "0  4.146990e+14      0.880440        10987        1  171.729873657227   \n",
       "1  4.411230e+14      0.872626        12076        1  176.483489990234   \n",
       "2  3.870940e+14      0.882439         9418        1  159.224502563477   \n",
       "3  4.345140e+14      0.888045        11965        1  181.290466308594   \n",
       "4  4.446310e+14      0.845386        12964        1  174.560256958008   \n",
       "\n",
       "  Minor_Axis_Length  \n",
       "0  81.4269790649414  \n",
       "1  86.1924667358398  \n",
       "2  74.9033279418945  \n",
       "3  83.3493347167969  \n",
       "4  93.2424011230469  "
      ]
     },
     "execution_count": 16,
     "metadata": {},
     "output_type": "execute_result"
    }
   ],
   "source": [
    "df.head()"
   ]
  },
  {
   "cell_type": "code",
   "execution_count": 17,
   "id": "3c2fec7d-67ec-4887-918e-92ba7eb856dd",
   "metadata": {
    "tags": []
   },
   "outputs": [],
   "source": [
    "df[\"Number_of_pixels\"]=df[\"Area_Extent\"].apply(lambda x: x.split(\":\")[0])\n",
    "df[\"Number_of_pixels\"]=df[\"Number_of_pixels\"].apply(lambda x: x.split(\"_\")[0])\n",
    "df[\"Number_of_pixels\"]=df[\"Number_of_pixels\"].apply(lambda x: x.split(\";\")[0])"
   ]
  },
  {
   "cell_type": "code",
   "execution_count": 18,
   "id": "e4a47273-4f7c-4f6b-b3a2-c8e27ed09bc1",
   "metadata": {
    "tags": []
   },
   "outputs": [],
   "source": [
    "df[\"ratio_of_reagion\"]=df[\"Area_Extent\"].apply(lambda x: x.split(\":\")[~0])\n",
    "df[\"ratio_of_reagion\"]=df[\"ratio_of_reagion\"].apply(lambda x: x.split(\"_\")[~0])\n",
    "df[\"ratio_of_reagion\"]=df[\"ratio_of_reagion\"].apply(lambda x: x.split(\";\")[~0])"
   ]
  },
  {
   "cell_type": "code",
   "execution_count": 19,
   "id": "8a65c543-3a1e-4f83-9da4-12b5144215d3",
   "metadata": {
    "tags": []
   },
   "outputs": [],
   "source": [
    "df.drop(\"Area_Extent\",1,inplace=True)"
   ]
  },
  {
   "cell_type": "code",
   "execution_count": 20,
   "id": "d06115ec-8ef0-4637-a9c2-53ce49148665",
   "metadata": {
    "tags": []
   },
   "outputs": [],
   "source": [
    "df.drop(\"Unnamed: 0\",1,inplace=True)"
   ]
  },
  {
   "cell_type": "code",
   "execution_count": 21,
   "id": "5cd29b67-9d99-47b0-a5ce-78412fe63245",
   "metadata": {
    "tags": []
   },
   "outputs": [],
   "source": [
    "df.drop(\"id\",1,inplace=True)"
   ]
  },
  {
   "cell_type": "code",
   "execution_count": 22,
   "id": "70e96aea-934f-4e92-8483-1a6438ad57c2",
   "metadata": {
    "tags": []
   },
   "outputs": [
    {
     "data": {
      "text/html": [
       "<div>\n",
       "<style scoped>\n",
       "    .dataframe tbody tr th:only-of-type {\n",
       "        vertical-align: middle;\n",
       "    }\n",
       "\n",
       "    .dataframe tbody tr th {\n",
       "        vertical-align: top;\n",
       "    }\n",
       "\n",
       "    .dataframe thead th {\n",
       "        text-align: right;\n",
       "    }\n",
       "</style>\n",
       "<table border=\"1\" class=\"dataframe\">\n",
       "  <thead>\n",
       "    <tr style=\"text-align: right;\">\n",
       "      <th></th>\n",
       "      <th>Perimeter</th>\n",
       "      <th>Eccentricity</th>\n",
       "      <th>Convex_Area</th>\n",
       "      <th>outcome</th>\n",
       "      <th>Major_Axis_Length</th>\n",
       "      <th>Minor_Axis_Length</th>\n",
       "      <th>Number_of_pixels</th>\n",
       "      <th>ratio_of_reagion</th>\n",
       "    </tr>\n",
       "  </thead>\n",
       "  <tbody>\n",
       "    <tr>\n",
       "      <th>0</th>\n",
       "      <td>4.146990e+14</td>\n",
       "      <td>0.880440</td>\n",
       "      <td>10987</td>\n",
       "      <td>1</td>\n",
       "      <td>171.729873657227</td>\n",
       "      <td>81.4269790649414</td>\n",
       "      <td>10729</td>\n",
       "      <td>0.794211268424988</td>\n",
       "    </tr>\n",
       "    <tr>\n",
       "      <th>1</th>\n",
       "      <td>4.411230e+14</td>\n",
       "      <td>0.872626</td>\n",
       "      <td>12076</td>\n",
       "      <td>1</td>\n",
       "      <td>176.483489990234</td>\n",
       "      <td>86.1924667358398</td>\n",
       "      <td>11732</td>\n",
       "      <td>0.637470126152039</td>\n",
       "    </tr>\n",
       "    <tr>\n",
       "      <th>2</th>\n",
       "      <td>3.870940e+14</td>\n",
       "      <td>0.882439</td>\n",
       "      <td>9418</td>\n",
       "      <td>1</td>\n",
       "      <td>159.224502563477</td>\n",
       "      <td>74.9033279418945</td>\n",
       "      <td>nine thousand, two hundred and twenty-one</td>\n",
       "      <td>0.7684166431427</td>\n",
       "    </tr>\n",
       "    <tr>\n",
       "      <th>3</th>\n",
       "      <td>4.345140e+14</td>\n",
       "      <td>0.888045</td>\n",
       "      <td>11965</td>\n",
       "      <td>1</td>\n",
       "      <td>181.290466308594</td>\n",
       "      <td>83.3493347167969</td>\n",
       "      <td>eleven thousand, seven hundred and eighty-seven</td>\n",
       "      <td>0.74412876367569</td>\n",
       "    </tr>\n",
       "    <tr>\n",
       "      <th>4</th>\n",
       "      <td>4.446310e+14</td>\n",
       "      <td>0.845386</td>\n",
       "      <td>12964</td>\n",
       "      <td>1</td>\n",
       "      <td>174.560256958008</td>\n",
       "      <td>93.2424011230469</td>\n",
       "      <td>12574</td>\n",
       "      <td>0.654725313186646</td>\n",
       "    </tr>\n",
       "  </tbody>\n",
       "</table>\n",
       "</div>"
      ],
      "text/plain": [
       "      Perimeter  Eccentricity  Convex_Area  outcome Major_Axis_Length  \\\n",
       "0  4.146990e+14      0.880440        10987        1  171.729873657227   \n",
       "1  4.411230e+14      0.872626        12076        1  176.483489990234   \n",
       "2  3.870940e+14      0.882439         9418        1  159.224502563477   \n",
       "3  4.345140e+14      0.888045        11965        1  181.290466308594   \n",
       "4  4.446310e+14      0.845386        12964        1  174.560256958008   \n",
       "\n",
       "  Minor_Axis_Length                                 Number_of_pixels  \\\n",
       "0  81.4269790649414                                            10729   \n",
       "1  86.1924667358398                                            11732   \n",
       "2  74.9033279418945        nine thousand, two hundred and twenty-one   \n",
       "3  83.3493347167969  eleven thousand, seven hundred and eighty-seven   \n",
       "4  93.2424011230469                                            12574   \n",
       "\n",
       "    ratio_of_reagion  \n",
       "0  0.794211268424988  \n",
       "1  0.637470126152039  \n",
       "2    0.7684166431427  \n",
       "3   0.74412876367569  \n",
       "4  0.654725313186646  "
      ]
     },
     "execution_count": 22,
     "metadata": {},
     "output_type": "execute_result"
    }
   ],
   "source": [
    "df.head()"
   ]
  },
  {
   "cell_type": "code",
   "execution_count": 23,
   "id": "3ede3bd8-4d34-48ba-8277-c87a07ef839e",
   "metadata": {
    "tags": []
   },
   "outputs": [
    {
     "data": {
      "text/plain": [
       "Index(['Perimeter', 'Eccentricity', 'Convex_Area', 'outcome',\n",
       "       'Major_Axis_Length', 'Minor_Axis_Length', 'Number_of_pixels',\n",
       "       'ratio_of_reagion'],\n",
       "      dtype='object')"
      ]
     },
     "execution_count": 23,
     "metadata": {},
     "output_type": "execute_result"
    }
   ],
   "source": [
    "df.columns"
   ]
  },
  {
   "cell_type": "code",
   "execution_count": 24,
   "id": "69b1be98-fd0b-4da1-8ac2-23418ced93df",
   "metadata": {
    "tags": []
   },
   "outputs": [],
   "source": [
    "df=df.reindex(columns=['Perimeter', 'Eccentricity', 'Convex_Area',\n",
    "       'Major_Axis_Length', 'Minor_Axis_Length', 'Number_of_pixels',\n",
    "       'ratio_of_reagion','outcome'])"
   ]
  },
  {
   "cell_type": "code",
   "execution_count": 25,
   "id": "3e39f7e3-0e21-46b3-adff-5a730a8374ef",
   "metadata": {
    "tags": []
   },
   "outputs": [
    {
     "data": {
      "text/html": [
       "<div>\n",
       "<style scoped>\n",
       "    .dataframe tbody tr th:only-of-type {\n",
       "        vertical-align: middle;\n",
       "    }\n",
       "\n",
       "    .dataframe tbody tr th {\n",
       "        vertical-align: top;\n",
       "    }\n",
       "\n",
       "    .dataframe thead th {\n",
       "        text-align: right;\n",
       "    }\n",
       "</style>\n",
       "<table border=\"1\" class=\"dataframe\">\n",
       "  <thead>\n",
       "    <tr style=\"text-align: right;\">\n",
       "      <th></th>\n",
       "      <th>Perimeter</th>\n",
       "      <th>Eccentricity</th>\n",
       "      <th>Convex_Area</th>\n",
       "      <th>Major_Axis_Length</th>\n",
       "      <th>Minor_Axis_Length</th>\n",
       "      <th>Number_of_pixels</th>\n",
       "      <th>ratio_of_reagion</th>\n",
       "      <th>outcome</th>\n",
       "    </tr>\n",
       "  </thead>\n",
       "  <tbody>\n",
       "    <tr>\n",
       "      <th>0</th>\n",
       "      <td>4.146990e+14</td>\n",
       "      <td>0.880440</td>\n",
       "      <td>10987</td>\n",
       "      <td>171.729873657227</td>\n",
       "      <td>81.4269790649414</td>\n",
       "      <td>10729</td>\n",
       "      <td>0.794211268424988</td>\n",
       "      <td>1</td>\n",
       "    </tr>\n",
       "    <tr>\n",
       "      <th>1</th>\n",
       "      <td>4.411230e+14</td>\n",
       "      <td>0.872626</td>\n",
       "      <td>12076</td>\n",
       "      <td>176.483489990234</td>\n",
       "      <td>86.1924667358398</td>\n",
       "      <td>11732</td>\n",
       "      <td>0.637470126152039</td>\n",
       "      <td>1</td>\n",
       "    </tr>\n",
       "    <tr>\n",
       "      <th>2</th>\n",
       "      <td>3.870940e+14</td>\n",
       "      <td>0.882439</td>\n",
       "      <td>9418</td>\n",
       "      <td>159.224502563477</td>\n",
       "      <td>74.9033279418945</td>\n",
       "      <td>nine thousand, two hundred and twenty-one</td>\n",
       "      <td>0.7684166431427</td>\n",
       "      <td>1</td>\n",
       "    </tr>\n",
       "    <tr>\n",
       "      <th>3</th>\n",
       "      <td>4.345140e+14</td>\n",
       "      <td>0.888045</td>\n",
       "      <td>11965</td>\n",
       "      <td>181.290466308594</td>\n",
       "      <td>83.3493347167969</td>\n",
       "      <td>eleven thousand, seven hundred and eighty-seven</td>\n",
       "      <td>0.74412876367569</td>\n",
       "      <td>1</td>\n",
       "    </tr>\n",
       "    <tr>\n",
       "      <th>4</th>\n",
       "      <td>4.446310e+14</td>\n",
       "      <td>0.845386</td>\n",
       "      <td>12964</td>\n",
       "      <td>174.560256958008</td>\n",
       "      <td>93.2424011230469</td>\n",
       "      <td>12574</td>\n",
       "      <td>0.654725313186646</td>\n",
       "      <td>1</td>\n",
       "    </tr>\n",
       "  </tbody>\n",
       "</table>\n",
       "</div>"
      ],
      "text/plain": [
       "      Perimeter  Eccentricity  Convex_Area Major_Axis_Length  \\\n",
       "0  4.146990e+14      0.880440        10987  171.729873657227   \n",
       "1  4.411230e+14      0.872626        12076  176.483489990234   \n",
       "2  3.870940e+14      0.882439         9418  159.224502563477   \n",
       "3  4.345140e+14      0.888045        11965  181.290466308594   \n",
       "4  4.446310e+14      0.845386        12964  174.560256958008   \n",
       "\n",
       "  Minor_Axis_Length                                 Number_of_pixels  \\\n",
       "0  81.4269790649414                                            10729   \n",
       "1  86.1924667358398                                            11732   \n",
       "2  74.9033279418945        nine thousand, two hundred and twenty-one   \n",
       "3  83.3493347167969  eleven thousand, seven hundred and eighty-seven   \n",
       "4  93.2424011230469                                            12574   \n",
       "\n",
       "    ratio_of_reagion  outcome  \n",
       "0  0.794211268424988        1  \n",
       "1  0.637470126152039        1  \n",
       "2    0.7684166431427        1  \n",
       "3   0.74412876367569        1  \n",
       "4  0.654725313186646        1  "
      ]
     },
     "execution_count": 25,
     "metadata": {},
     "output_type": "execute_result"
    }
   ],
   "source": [
    "df.head()"
   ]
  },
  {
   "cell_type": "code",
   "execution_count": 26,
   "id": "89cfcd6e-ff7e-4ced-90bf-7c92adc1eb08",
   "metadata": {
    "tags": []
   },
   "outputs": [
    {
     "data": {
      "text/plain": [
       "Perimeter            float64\n",
       "Eccentricity         float64\n",
       "Convex_Area            int64\n",
       "Major_Axis_Length     object\n",
       "Minor_Axis_Length     object\n",
       "Number_of_pixels      object\n",
       "ratio_of_reagion      object\n",
       "outcome                int64\n",
       "dtype: object"
      ]
     },
     "execution_count": 26,
     "metadata": {},
     "output_type": "execute_result"
    }
   ],
   "source": [
    "df.dtypes"
   ]
  },
  {
   "cell_type": "code",
   "execution_count": 27,
   "id": "ab43e145-427b-4f60-b7c1-fec1917958da",
   "metadata": {
    "tags": []
   },
   "outputs": [],
   "source": [
    "for i in df.columns:\n",
    "    try:\n",
    "        df[i]=df[i].astype(float)\n",
    "    except:\n",
    "        pass"
   ]
  },
  {
   "cell_type": "code",
   "execution_count": 28,
   "id": "f631ec57-b64e-4ae4-9e9f-c96f480d0184",
   "metadata": {
    "tags": []
   },
   "outputs": [
    {
     "data": {
      "text/plain": [
       "Perimeter            float64\n",
       "Eccentricity         float64\n",
       "Convex_Area          float64\n",
       "Major_Axis_Length    float64\n",
       "Minor_Axis_Length    float64\n",
       "Number_of_pixels      object\n",
       "ratio_of_reagion     float64\n",
       "outcome              float64\n",
       "dtype: object"
      ]
     },
     "execution_count": 28,
     "metadata": {},
     "output_type": "execute_result"
    }
   ],
   "source": [
    "df.dtypes"
   ]
  },
  {
   "cell_type": "code",
   "execution_count": 29,
   "id": "ed271dd9-8c2c-4b2c-b7cb-f683f655b5cf",
   "metadata": {
    "tags": []
   },
   "outputs": [
    {
     "data": {
      "text/plain": [
       "'fourteen thousand, seven hundred'"
      ]
     },
     "execution_count": 29,
     "metadata": {},
     "output_type": "execute_result"
    }
   ],
   "source": [
    "df.iloc[546][\"Number_of_pixels\"]"
   ]
  },
  {
   "cell_type": "code",
   "execution_count": 30,
   "id": "92207dbd-1dff-4639-a033-d109c0b77849",
   "metadata": {
    "tags": []
   },
   "outputs": [
    {
     "data": {
      "text/plain": [
       "0                                               10729\n",
       "1                                               11732\n",
       "2           nine thousand, two hundred and twenty-one\n",
       "3     eleven thousand, seven hundred and eighty-seven\n",
       "4                                               12574\n",
       "5                                               15107\n",
       "6        ten thousand, five hundred and seventy-eight\n",
       "7         ten thousand, four hundred and ninety-seven\n",
       "8                     sixteen thousand and ninety-one\n",
       "9                                               13998\n",
       "10                                              15593\n",
       "11        eleven thousand, five hundred and fifty-two\n",
       "12                                              14998\n",
       "13        ten thousand, eight hundred and eighty-nine\n",
       "14        nine thousand, one hundred and twenty-seven\n",
       "15         ten thousand, nine hundred and eighty-four\n",
       "16                  fourteen thousand and seventy-six\n",
       "17                                              12682\n",
       "18                                              13084\n",
       "19            ten thousand, eight hundred and fifteen\n",
       "20                                              11795\n",
       "21           thirteen thousand, eight hundred and six\n",
       "22                    eleven thousand and ninety-five\n",
       "23       eleven thousand, three hundred and forty-two\n",
       "24                                              12745\n",
       "25                                              14362\n",
       "26       thirteen thousand, two hundred and fifty-six\n",
       "27                                              11743\n",
       "28               nine thousand, eight hundred and two\n",
       "29     fifteen thousand, two hundred and seventy-four\n",
       "Name: Number_of_pixels, dtype: object"
      ]
     },
     "execution_count": 30,
     "metadata": {},
     "output_type": "execute_result"
    }
   ],
   "source": [
    "df.Number_of_pixels[:30]"
   ]
  },
  {
   "cell_type": "code",
   "execution_count": 31,
   "id": "e1e81664-c25e-4955-b0b8-0683e1872ab0",
   "metadata": {
    "tags": []
   },
   "outputs": [],
   "source": [
    "df[\"Number_of_pixels\"]=df[\"Number_of_pixels\"].apply(lambda x: x.replace(\"-\",\" \"))"
   ]
  },
  {
   "cell_type": "code",
   "execution_count": 32,
   "id": "e4c940fa-caa9-4e58-acc5-3ad2fec796ea",
   "metadata": {
    "tags": []
   },
   "outputs": [],
   "source": [
    "df[\"Number_of_pixels\"]=df[\"Number_of_pixels\"].apply(lambda x: x.replace(\"thousand\",\"\").replace(\"hundred\",\"\"))"
   ]
  },
  {
   "cell_type": "code",
   "execution_count": 33,
   "id": "5614131f-4c94-4700-9b94-244b71dae6ba",
   "metadata": {
    "tags": []
   },
   "outputs": [],
   "source": [
    "df[\"Number_of_pixels\"]=df[\"Number_of_pixels\"].apply(lambda x: x.replace(\"  \",\" \"))"
   ]
  },
  {
   "cell_type": "code",
   "execution_count": 34,
   "id": "1c3b106c-4a36-4812-908b-f420655610ae",
   "metadata": {
    "tags": []
   },
   "outputs": [],
   "source": [
    "a=[\"one\",\"two\",\"three\",\"four\",\"five\",\"six\",\"seven\",\"eight\",\"nine\",\"ten\",\"eleven\",\"twelve\",\"thirteen\",\"fourteen\",\"fifteen\",\"sixteen\",\"seventeen\",\n",
    "\"eighteen\",\"nineteen\"]"
   ]
  },
  {
   "cell_type": "code",
   "execution_count": 35,
   "id": "54f3b193-d784-469d-baf8-1f1a41a0c8b1",
   "metadata": {
    "tags": []
   },
   "outputs": [],
   "source": [
    "dict1=dict(zip(a,range(1,20)))"
   ]
  },
  {
   "cell_type": "code",
   "execution_count": 36,
   "id": "11f9ce1c-447c-48a9-8dcc-cba152f96e68",
   "metadata": {
    "tags": []
   },
   "outputs": [],
   "source": [
    "b=[\"twenty\",\"thirty\",\"forty\",\"fifty\",\"sixty\",\"seventy\",\"eighty\",\"ninety\"]"
   ]
  },
  {
   "cell_type": "code",
   "execution_count": 37,
   "id": "49dfeb70-c2d2-4850-ad01-35a842044f64",
   "metadata": {
    "tags": []
   },
   "outputs": [],
   "source": [
    "dict2=dict(zip(b,range(2,10)))"
   ]
  },
  {
   "cell_type": "code",
   "execution_count": 38,
   "id": "2df0ac10-4283-46d9-abf9-bad54034b1b3",
   "metadata": {
    "tags": []
   },
   "outputs": [],
   "source": [
    "new_dict=dict1|dict2"
   ]
  },
  {
   "cell_type": "code",
   "execution_count": 39,
   "id": "eef4bb22-1589-428d-b5c0-b62dac4e3f42",
   "metadata": {
    "tags": []
   },
   "outputs": [
    {
     "data": {
      "text/plain": [
       "{'one': 1,\n",
       " 'two': 2,\n",
       " 'three': 3,\n",
       " 'four': 4,\n",
       " 'five': 5,\n",
       " 'six': 6,\n",
       " 'seven': 7,\n",
       " 'eight': 8,\n",
       " 'nine': 9,\n",
       " 'ten': 10,\n",
       " 'eleven': 11,\n",
       " 'twelve': 12,\n",
       " 'thirteen': 13,\n",
       " 'fourteen': 14,\n",
       " 'fifteen': 15,\n",
       " 'sixteen': 16,\n",
       " 'seventeen': 17,\n",
       " 'eighteen': 18,\n",
       " 'nineteen': 19,\n",
       " 'twenty': 2,\n",
       " 'thirty': 3,\n",
       " 'forty': 4,\n",
       " 'fifty': 5,\n",
       " 'sixty': 6,\n",
       " 'seventy': 7,\n",
       " 'eighty': 8,\n",
       " 'ninety': 9}"
      ]
     },
     "execution_count": 39,
     "metadata": {},
     "output_type": "execute_result"
    }
   ],
   "source": [
    "new_dict"
   ]
  },
  {
   "cell_type": "code",
   "execution_count": 40,
   "id": "35c66e31-47d8-4cd2-87dd-a579d84675ef",
   "metadata": {
    "tags": []
   },
   "outputs": [],
   "source": [
    "index1=[]\n",
    "index2=[]\n",
    "for i in df[\"Number_of_pixels\"]:\n",
    "    if \",\" in i:\n",
    "        index1.append(df[df[\"Number_of_pixels\"]==i].index.values[0])\n",
    "    else:\n",
    "        index2.append(df[df[\"Number_of_pixels\"]==i].index.values[0])\n",
    "            \n",
    "            \n",
    "            "
   ]
  },
  {
   "cell_type": "code",
   "execution_count": 41,
   "id": "a47d0019-0b51-4440-b9a8-187894b627fa",
   "metadata": {
    "tags": []
   },
   "outputs": [],
   "source": [
    "df.iloc[index1,5]=df.iloc[index1,5].apply(lambda x: x.replace(\"and\",\"\").replace(\",\",\"\").replace(\"  \",\" \"))"
   ]
  },
  {
   "cell_type": "code",
   "execution_count": 42,
   "id": "6c9a2e7b-d142-4221-9ede-b2d28854ad3b",
   "metadata": {
    "tags": []
   },
   "outputs": [
    {
     "data": {
      "text/plain": [
       "2              nine two twenty one\n",
       "3        eleven seven eighty seven\n",
       "6           ten five seventy eight\n",
       "7            ten four ninety seven\n",
       "11           eleven five fifty two\n",
       "                   ...            \n",
       "2990         eleven six sixty nine\n",
       "2991      thirteen seven sixty two\n",
       "2993        twelve six eighty four\n",
       "2997    thirteen three ninety nine\n",
       "2999       eight eight forty eight\n",
       "Name: Number_of_pixels, Length: 1625, dtype: object"
      ]
     },
     "execution_count": 42,
     "metadata": {},
     "output_type": "execute_result"
    }
   ],
   "source": [
    "df.iloc[index1,5]"
   ]
  },
  {
   "cell_type": "code",
   "execution_count": 43,
   "id": "35c40dfb-9f5d-432e-bf63-b24ed8bcf2e2",
   "metadata": {
    "tags": []
   },
   "outputs": [],
   "source": [
    "new=[]\n",
    "for i in df.iloc[index1,5]:\n",
    "    new.append(i.split(\" \"))"
   ]
  },
  {
   "cell_type": "code",
   "execution_count": 44,
   "id": "ec315c0b-7f02-4b92-971c-b7f2061c9442",
   "metadata": {
    "tags": []
   },
   "outputs": [],
   "source": [
    "for i in new:\n",
    "    for j in i:\n",
    "        try:\n",
    "            i[i.index(j)]=new_dict[j]\n",
    "        except:\n",
    "            pass"
   ]
  },
  {
   "cell_type": "code",
   "execution_count": 45,
   "id": "98248069-1ef0-475b-9061-9e9cdee4dc24",
   "metadata": {
    "tags": []
   },
   "outputs": [],
   "source": [
    "son=[]\n",
    "for i in new:\n",
    "    son.append([str(j) for j in i])"
   ]
  },
  {
   "cell_type": "code",
   "execution_count": 46,
   "id": "e9667342-f153-4cc6-9de4-14899933add4",
   "metadata": {
    "tags": []
   },
   "outputs": [],
   "source": [
    "son2=[]\n",
    "for i in son:\n",
    "    son2.append(\"\".join(i))"
   ]
  },
  {
   "cell_type": "code",
   "execution_count": 47,
   "id": "42908e48-63a5-4c33-b65f-4625dc45ba54",
   "metadata": {
    "tags": []
   },
   "outputs": [],
   "source": [
    "df.iloc[index1,5]=son2"
   ]
  },
  {
   "cell_type": "code",
   "execution_count": 48,
   "id": "0f20e54f-4eb4-4141-aded-638918583a7c",
   "metadata": {
    "tags": []
   },
   "outputs": [
    {
     "data": {
      "text/plain": [
       "2        9221\n",
       "3       11787\n",
       "6       10578\n",
       "7       10497\n",
       "11      11552\n",
       "        ...  \n",
       "2990    11669\n",
       "2991    13762\n",
       "2993    12684\n",
       "2997    13399\n",
       "2999     8848\n",
       "Name: Number_of_pixels, Length: 1625, dtype: object"
      ]
     },
     "execution_count": 48,
     "metadata": {},
     "output_type": "execute_result"
    }
   ],
   "source": [
    "df.iloc[index1,5]"
   ]
  },
  {
   "cell_type": "code",
   "execution_count": 49,
   "id": "1339aa4a-f054-4f29-a7e5-1ddefce86afe",
   "metadata": {},
   "outputs": [],
   "source": [
    "new=[]\n",
    "for i in df.iloc[index2,5]:\n",
    "    new.append(i.split(\" \"))"
   ]
  },
  {
   "cell_type": "code",
   "execution_count": 50,
   "id": "1bd093fa-eed9-452a-8e8f-fcf273e3165c",
   "metadata": {},
   "outputs": [],
   "source": [
    "for i in new:\n",
    "    for j in i:\n",
    "        try:\n",
    "            i[i.index(j)]=new_dict[j]\n",
    "        except:\n",
    "            pass"
   ]
  },
  {
   "cell_type": "code",
   "execution_count": 51,
   "id": "436e00e6-ae0f-4fd8-ba09-f969aba4e3fd",
   "metadata": {},
   "outputs": [],
   "source": [
    "son=[]\n",
    "for i in new:\n",
    "    son.append([str(j) for j in i])"
   ]
  },
  {
   "cell_type": "code",
   "execution_count": 52,
   "id": "b5db03f3-b92e-4d91-9fe7-5829994e1915",
   "metadata": {},
   "outputs": [],
   "source": [
    "son2=[]\n",
    "for i in son:\n",
    "    son2.append(\"\".join(i))"
   ]
  },
  {
   "cell_type": "code",
   "execution_count": 53,
   "id": "3b565856-94c7-401d-bf82-1ca111dabf42",
   "metadata": {},
   "outputs": [],
   "source": [
    "\n",
    "son3=[i.replace(\"and\",\"0\") for i in son2]"
   ]
  },
  {
   "cell_type": "code",
   "execution_count": 54,
   "id": "7a337916-5c28-4c0c-a0c9-344857171af2",
   "metadata": {},
   "outputs": [],
   "source": [
    "df.iloc[index2,5]=son3"
   ]
  },
  {
   "cell_type": "code",
   "execution_count": 55,
   "id": "8c928ccc-2fc7-4333-9185-d319ed8512ce",
   "metadata": {
    "tags": []
   },
   "outputs": [],
   "source": [
    "notdig=[]\n",
    "for i in df[\"Number_of_pixels\"]:\n",
    "    if i.isdigit()==False:\n",
    "        notdig.append(df[df[\"Number_of_pixels\"]==i].index.values[0])"
   ]
  },
  {
   "cell_type": "code",
   "execution_count": 56,
   "id": "427009a2-3926-4a56-8a49-7d44b6e8e76c",
   "metadata": {
    "tags": []
   },
   "outputs": [],
   "source": [
    "df=df.drop(notdig,0)"
   ]
  },
  {
   "cell_type": "code",
   "execution_count": 57,
   "id": "b7863abc-a0dc-47ff-bc6f-4880841cd90f",
   "metadata": {
    "tags": []
   },
   "outputs": [],
   "source": [
    "df.reset_index(drop=True, inplace=True)"
   ]
  },
  {
   "cell_type": "code",
   "execution_count": 58,
   "id": "5c1b07e2-623f-41c7-b23b-d8f7e5a2a18f",
   "metadata": {},
   "outputs": [],
   "source": [
    "# run only for test data\n",
    "df[\"outcome\"]=df[\"outcome\"].astype(int)"
   ]
  },
  {
   "cell_type": "code",
   "execution_count": 59,
   "id": "5749211d-f90e-4545-86d0-85fe30809f8f",
   "metadata": {
    "tags": []
   },
   "outputs": [],
   "source": [
    "notdig2=[]\n",
    "for i in df[\"Number_of_pixels\"]:\n",
    "    if i.isdigit()==False:\n",
    "        notdig2.append(df[df[\"Number_of_pixels\"]==i].index.values[0])"
   ]
  },
  {
   "cell_type": "code",
   "execution_count": 60,
   "id": "db345144-f2ce-40df-b5d0-6bfdc37c25b8",
   "metadata": {
    "tags": []
   },
   "outputs": [],
   "source": [
    "df=df.drop(notdig2,0)\n",
    "df.reset_index(drop=True, inplace=True)"
   ]
  },
  {
   "cell_type": "code",
   "execution_count": 61,
   "id": "65130fb6-3776-40f0-a3aa-0693b371d225",
   "metadata": {
    "tags": []
   },
   "outputs": [],
   "source": [
    "notdig3=[]\n",
    "for i in df[\"Number_of_pixels\"]:\n",
    "    if i.isdigit()==False:\n",
    "        notdig3.append(df[df[\"Number_of_pixels\"]==i].index.values[0])"
   ]
  },
  {
   "cell_type": "code",
   "execution_count": 62,
   "id": "de185baf-70f5-42bc-9f58-72764a8f0960",
   "metadata": {
    "tags": []
   },
   "outputs": [
    {
     "data": {
      "text/plain": [
       "[2418, 2466, 2517]"
      ]
     },
     "execution_count": 62,
     "metadata": {},
     "output_type": "execute_result"
    }
   ],
   "source": [
    "notdig3"
   ]
  },
  {
   "cell_type": "code",
   "execution_count": 63,
   "id": "636aceb7-1426-4be5-a520-d0e28207a9cd",
   "metadata": {
    "tags": []
   },
   "outputs": [],
   "source": [
    "df=df.drop(notdig3,0)"
   ]
  },
  {
   "cell_type": "code",
   "execution_count": 64,
   "id": "e347709b-acd1-4047-9a61-7c02f63ba7f5",
   "metadata": {
    "tags": []
   },
   "outputs": [],
   "source": [
    "df.reset_index(drop=True, inplace=True)"
   ]
  },
  {
   "cell_type": "code",
   "execution_count": 65,
   "id": "4185e3e8-ffef-47df-bf4b-bb47fff3aab7",
   "metadata": {
    "tags": []
   },
   "outputs": [],
   "source": [
    "df[\"Number_of_pixels\"]=df[\"Number_of_pixels\"].astype(int)"
   ]
  },
  {
   "cell_type": "code",
   "execution_count": 66,
   "id": "2580e59c-b3c5-4b50-b532-26c8140655c9",
   "metadata": {
    "tags": []
   },
   "outputs": [
    {
     "data": {
      "text/plain": [
       "Perimeter            float64\n",
       "Eccentricity         float64\n",
       "Convex_Area          float64\n",
       "Major_Axis_Length    float64\n",
       "Minor_Axis_Length    float64\n",
       "Number_of_pixels       int32\n",
       "ratio_of_reagion     float64\n",
       "outcome                int32\n",
       "dtype: object"
      ]
     },
     "execution_count": 66,
     "metadata": {},
     "output_type": "execute_result"
    }
   ],
   "source": [
    "df.dtypes"
   ]
  },
  {
   "cell_type": "code",
   "execution_count": 68,
   "id": "67a822ab-4df9-484c-95aa-6a3a704f18c9",
   "metadata": {
    "tags": []
   },
   "outputs": [
    {
     "data": {
      "text/html": [
       "<div>\n",
       "<style scoped>\n",
       "    .dataframe tbody tr th:only-of-type {\n",
       "        vertical-align: middle;\n",
       "    }\n",
       "\n",
       "    .dataframe tbody tr th {\n",
       "        vertical-align: top;\n",
       "    }\n",
       "\n",
       "    .dataframe thead th {\n",
       "        text-align: right;\n",
       "    }\n",
       "</style>\n",
       "<table border=\"1\" class=\"dataframe\">\n",
       "  <thead>\n",
       "    <tr style=\"text-align: right;\">\n",
       "      <th></th>\n",
       "      <th>Perimeter</th>\n",
       "      <th>Eccentricity</th>\n",
       "      <th>Convex_Area</th>\n",
       "      <th>Major_Axis_Length</th>\n",
       "      <th>Minor_Axis_Length</th>\n",
       "      <th>Number_of_pixels</th>\n",
       "      <th>ratio_of_reagion</th>\n",
       "      <th>outcome</th>\n",
       "    </tr>\n",
       "  </thead>\n",
       "  <tbody>\n",
       "    <tr>\n",
       "      <th>0</th>\n",
       "      <td>4.146990e+14</td>\n",
       "      <td>0.880440</td>\n",
       "      <td>10987.0</td>\n",
       "      <td>171.729874</td>\n",
       "      <td>81.426979</td>\n",
       "      <td>10729</td>\n",
       "      <td>0.794211</td>\n",
       "      <td>1</td>\n",
       "    </tr>\n",
       "    <tr>\n",
       "      <th>1</th>\n",
       "      <td>4.411230e+14</td>\n",
       "      <td>0.872626</td>\n",
       "      <td>12076.0</td>\n",
       "      <td>176.483490</td>\n",
       "      <td>86.192467</td>\n",
       "      <td>11732</td>\n",
       "      <td>0.637470</td>\n",
       "      <td>1</td>\n",
       "    </tr>\n",
       "    <tr>\n",
       "      <th>2</th>\n",
       "      <td>3.870940e+14</td>\n",
       "      <td>0.882439</td>\n",
       "      <td>9418.0</td>\n",
       "      <td>159.224503</td>\n",
       "      <td>74.903328</td>\n",
       "      <td>9221</td>\n",
       "      <td>0.768417</td>\n",
       "      <td>1</td>\n",
       "    </tr>\n",
       "    <tr>\n",
       "      <th>3</th>\n",
       "      <td>4.345140e+14</td>\n",
       "      <td>0.888045</td>\n",
       "      <td>11965.0</td>\n",
       "      <td>181.290466</td>\n",
       "      <td>83.349335</td>\n",
       "      <td>11787</td>\n",
       "      <td>0.744129</td>\n",
       "      <td>1</td>\n",
       "    </tr>\n",
       "    <tr>\n",
       "      <th>4</th>\n",
       "      <td>4.446310e+14</td>\n",
       "      <td>0.845386</td>\n",
       "      <td>12964.0</td>\n",
       "      <td>174.560257</td>\n",
       "      <td>93.242401</td>\n",
       "      <td>12574</td>\n",
       "      <td>0.654725</td>\n",
       "      <td>1</td>\n",
       "    </tr>\n",
       "    <tr>\n",
       "      <th>5</th>\n",
       "      <td>4.888660e+14</td>\n",
       "      <td>0.887993</td>\n",
       "      <td>15322.0</td>\n",
       "      <td>205.215210</td>\n",
       "      <td>94.369820</td>\n",
       "      <td>15107</td>\n",
       "      <td>0.787233</td>\n",
       "      <td>0</td>\n",
       "    </tr>\n",
       "    <tr>\n",
       "      <th>6</th>\n",
       "      <td>4.146200e+14</td>\n",
       "      <td>0.873766</td>\n",
       "      <td>10899.0</td>\n",
       "      <td>167.751923</td>\n",
       "      <td>81.585701</td>\n",
       "      <td>10578</td>\n",
       "      <td>0.603974</td>\n",
       "      <td>1</td>\n",
       "    </tr>\n",
       "    <tr>\n",
       "      <th>7</th>\n",
       "      <td>4.175060e+14</td>\n",
       "      <td>0.880835</td>\n",
       "      <td>10753.0</td>\n",
       "      <td>169.240204</td>\n",
       "      <td>80.122292</td>\n",
       "      <td>10497</td>\n",
       "      <td>0.581616</td>\n",
       "      <td>1</td>\n",
       "    </tr>\n",
       "    <tr>\n",
       "      <th>8</th>\n",
       "      <td>5.088310e+14</td>\n",
       "      <td>0.880323</td>\n",
       "      <td>16431.0</td>\n",
       "      <td>209.183884</td>\n",
       "      <td>99.231758</td>\n",
       "      <td>16091</td>\n",
       "      <td>0.670458</td>\n",
       "      <td>0</td>\n",
       "    </tr>\n",
       "    <tr>\n",
       "      <th>9</th>\n",
       "      <td>4.848820e+14</td>\n",
       "      <td>0.889188</td>\n",
       "      <td>14328.0</td>\n",
       "      <td>198.721298</td>\n",
       "      <td>90.923409</td>\n",
       "      <td>13998</td>\n",
       "      <td>0.599512</td>\n",
       "      <td>0</td>\n",
       "    </tr>\n",
       "    <tr>\n",
       "      <th>10</th>\n",
       "      <td>5.124280e+14</td>\n",
       "      <td>0.903344</td>\n",
       "      <td>16050.0</td>\n",
       "      <td>216.615707</td>\n",
       "      <td>92.910019</td>\n",
       "      <td>15593</td>\n",
       "      <td>0.777473</td>\n",
       "      <td>0</td>\n",
       "    </tr>\n",
       "    <tr>\n",
       "      <th>11</th>\n",
       "      <td>4.328120e+13</td>\n",
       "      <td>0.882663</td>\n",
       "      <td>11838.0</td>\n",
       "      <td>178.890762</td>\n",
       "      <td>84.079803</td>\n",
       "      <td>11552</td>\n",
       "      <td>0.636474</td>\n",
       "      <td>1</td>\n",
       "    </tr>\n",
       "    <tr>\n",
       "      <th>12</th>\n",
       "      <td>4.969040e+14</td>\n",
       "      <td>0.910292</td>\n",
       "      <td>15279.0</td>\n",
       "      <td>215.950272</td>\n",
       "      <td>89.396088</td>\n",
       "      <td>14998</td>\n",
       "      <td>0.824836</td>\n",
       "      <td>0</td>\n",
       "    </tr>\n",
       "    <tr>\n",
       "      <th>13</th>\n",
       "      <td>4.090170e+14</td>\n",
       "      <td>0.859339</td>\n",
       "      <td>11123.0</td>\n",
       "      <td>165.919464</td>\n",
       "      <td>84.852348</td>\n",
       "      <td>10889</td>\n",
       "      <td>0.804804</td>\n",
       "      <td>1</td>\n",
       "    </tr>\n",
       "    <tr>\n",
       "      <th>14</th>\n",
       "      <td>3.818790e+14</td>\n",
       "      <td>0.891510</td>\n",
       "      <td>9260.0</td>\n",
       "      <td>160.804657</td>\n",
       "      <td>72.844658</td>\n",
       "      <td>9127</td>\n",
       "      <td>0.589561</td>\n",
       "      <td>1</td>\n",
       "    </tr>\n",
       "  </tbody>\n",
       "</table>\n",
       "</div>"
      ],
      "text/plain": [
       "       Perimeter  Eccentricity  Convex_Area  Major_Axis_Length  \\\n",
       "0   4.146990e+14      0.880440      10987.0         171.729874   \n",
       "1   4.411230e+14      0.872626      12076.0         176.483490   \n",
       "2   3.870940e+14      0.882439       9418.0         159.224503   \n",
       "3   4.345140e+14      0.888045      11965.0         181.290466   \n",
       "4   4.446310e+14      0.845386      12964.0         174.560257   \n",
       "5   4.888660e+14      0.887993      15322.0         205.215210   \n",
       "6   4.146200e+14      0.873766      10899.0         167.751923   \n",
       "7   4.175060e+14      0.880835      10753.0         169.240204   \n",
       "8   5.088310e+14      0.880323      16431.0         209.183884   \n",
       "9   4.848820e+14      0.889188      14328.0         198.721298   \n",
       "10  5.124280e+14      0.903344      16050.0         216.615707   \n",
       "11  4.328120e+13      0.882663      11838.0         178.890762   \n",
       "12  4.969040e+14      0.910292      15279.0         215.950272   \n",
       "13  4.090170e+14      0.859339      11123.0         165.919464   \n",
       "14  3.818790e+14      0.891510       9260.0         160.804657   \n",
       "\n",
       "    Minor_Axis_Length  Number_of_pixels  ratio_of_reagion  outcome  \n",
       "0           81.426979             10729          0.794211        1  \n",
       "1           86.192467             11732          0.637470        1  \n",
       "2           74.903328              9221          0.768417        1  \n",
       "3           83.349335             11787          0.744129        1  \n",
       "4           93.242401             12574          0.654725        1  \n",
       "5           94.369820             15107          0.787233        0  \n",
       "6           81.585701             10578          0.603974        1  \n",
       "7           80.122292             10497          0.581616        1  \n",
       "8           99.231758             16091          0.670458        0  \n",
       "9           90.923409             13998          0.599512        0  \n",
       "10          92.910019             15593          0.777473        0  \n",
       "11          84.079803             11552          0.636474        1  \n",
       "12          89.396088             14998          0.824836        0  \n",
       "13          84.852348             10889          0.804804        1  \n",
       "14          72.844658              9127          0.589561        1  "
      ]
     },
     "execution_count": 68,
     "metadata": {},
     "output_type": "execute_result"
    }
   ],
   "source": [
    "df.head(15)"
   ]
  },
  {
   "cell_type": "code",
   "execution_count": null,
   "id": "ebf7db9e-9dd4-478a-9384-0af6f69985c1",
   "metadata": {},
   "outputs": [],
   "source": []
  }
 ],
 "metadata": {
  "kernelspec": {
   "display_name": "Python 3 (ipykernel)",
   "language": "python",
   "name": "python3"
  },
  "language_info": {
   "codemirror_mode": {
    "name": "ipython",
    "version": 3
   },
   "file_extension": ".py",
   "mimetype": "text/x-python",
   "name": "python",
   "nbconvert_exporter": "python",
   "pygments_lexer": "ipython3",
   "version": "3.11.3"
  }
 },
 "nbformat": 4,
 "nbformat_minor": 5
}
